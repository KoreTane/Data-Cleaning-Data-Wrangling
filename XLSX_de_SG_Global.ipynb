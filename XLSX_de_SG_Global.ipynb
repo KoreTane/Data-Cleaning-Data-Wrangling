{
 "cells": [
  {
   "cell_type": "code",
   "execution_count": 1,
   "metadata": {
    "colab": {
     "base_uri": "https://localhost:8080/"
    },
    "id": "P3vaUqbLaOMf",
    "outputId": "c680528a-d187-43ff-90c3-ea7e745fcc73",
    "scrolled": true
   },
   "outputs": [
    {
     "name": "stdout",
     "output_type": "stream",
     "text": [
      "Requirement already satisfied: pandas==2.0.3 in c:\\users\\kkk\\anaconda3\\lib\\site-packages (2.0.3)\n",
      "Requirement already satisfied: tzdata>=2022.1 in c:\\users\\kkk\\anaconda3\\lib\\site-packages (from pandas==2.0.3) (2024.1)\n",
      "Requirement already satisfied: numpy>=1.21.0 in c:\\users\\kkk\\anaconda3\\lib\\site-packages (from pandas==2.0.3) (1.23.5)\n",
      "Requirement already satisfied: python-dateutil>=2.8.2 in c:\\users\\kkk\\anaconda3\\lib\\site-packages (from pandas==2.0.3) (2.8.2)\n",
      "Requirement already satisfied: pytz>=2020.1 in c:\\users\\kkk\\anaconda3\\lib\\site-packages (from pandas==2.0.3) (2022.7)\n",
      "Requirement already satisfied: six>=1.5 in c:\\users\\kkk\\anaconda3\\lib\\site-packages (from python-dateutil>=2.8.2->pandas==2.0.3) (1.16.0)\n"
     ]
    },
    {
     "name": "stderr",
     "output_type": "stream",
     "text": [
      "WARNING: Ignoring invalid distribution -cipy (c:\\users\\kkk\\anaconda3\\lib\\site-packages)\n",
      "WARNING: Ignoring invalid distribution -cipy (c:\\users\\kkk\\anaconda3\\lib\\site-packages)\n",
      "WARNING: Ignoring invalid distribution -cipy (c:\\users\\kkk\\anaconda3\\lib\\site-packages)\n",
      "WARNING: Ignoring invalid distribution -cipy (c:\\users\\kkk\\anaconda3\\lib\\site-packages)\n",
      "WARNING: Ignoring invalid distribution -cipy (c:\\users\\kkk\\anaconda3\\lib\\site-packages)\n",
      "WARNING: Ignoring invalid distribution -cipy (c:\\users\\kkk\\anaconda3\\lib\\site-packages)\n"
     ]
    }
   ],
   "source": [
    "#!pip install pandas-profiling==3.3.0\n",
    "#!pip install xlsxwriter\n",
    "!pip install pandas==2.0.3"
   ]
  },
  {
   "cell_type": "code",
   "execution_count": 2,
   "metadata": {
    "id": "Cw03dTVn9k7l"
   },
   "outputs": [],
   "source": [
    "import pandas as pd\n",
    "import numpy as np\n",
    "import babel.dates"
   ]
  },
  {
   "cell_type": "code",
   "execution_count": 3,
   "metadata": {
    "id": "PhgV8e9W94hk"
   },
   "outputs": [],
   "source": [
    "df_us_all = pd.read_excel(r'C:\\Users\\Kkk\\OneDrive\\Documentos\\DNC\\Projetos\\SG Global - Power BI\\DRE US - DNC .xlsx', sheet_name=\"Base\")\n",
    "df_br_all = pd.read_excel(r'C:\\Users\\Kkk\\OneDrive\\Documentos\\DNC\\Projetos\\SG Global - Power BI\\DRE BR - DNC.xlsx', sheet_name=\"Base\")\n",
    "df_pc_all = pd.read_excel(r'C:\\Users\\Kkk\\OneDrive\\Documentos\\DNC\\Projetos\\SG Global - Power BI\\DRE US - DNC .xlsx', sheet_name=\"Base\")"
   ]
  },
  {
   "cell_type": "code",
   "execution_count": 4,
   "metadata": {},
   "outputs": [],
   "source": [
    "df_pc = df_pc_all[['Conta', 'Categoria']]\n",
    "df_pc = df_pc.rename(columns={'Conta': 'Categoria_Num'})\n",
    "df_pc['Total'] = 0"
   ]
  },
  {
   "cell_type": "code",
   "execution_count": 5,
   "metadata": {
    "id": "JrcWSXAoBPtR"
   },
   "outputs": [],
   "source": [
    "#identificar as bases\n",
    "df_us_all = df_us_all.assign(Origem='US')\n",
    "df_br_all = df_br_all.assign(Origem='BR')"
   ]
  },
  {
   "cell_type": "code",
   "execution_count": 6,
   "metadata": {
    "id": "kESMkQUNLEn6"
   },
   "outputs": [],
   "source": [
    "#remover espaços na frente do nome das colunas\n",
    "df_us_all.columns = df_us_all.columns.str.strip()\n",
    "df_br_all.columns = df_br_all.columns.str.strip()"
   ]
  },
  {
   "cell_type": "code",
   "execution_count": 7,
   "metadata": {
    "id": "sZRhq5AiItoR"
   },
   "outputs": [],
   "source": [
    "df_us = df_us_all[['Origem','Data de Competência', 'Categoria','Descrição', 'Cliente / Fornecedor','Valor recebido', 'Valor pago','Conta','Centro de custo', 'Empresa']]\n",
    "df_br = df_br_all[['Origem','Data de Competência', 'Categoria','Descrição', 'Cliente / Fornecedor','Valor recebido', 'Valor pago','Conta','Centro de custo', 'Empresa']]"
   ]
  },
  {
   "cell_type": "code",
   "execution_count": 8,
   "metadata": {
    "id": "-1TjM2JEqwCi"
   },
   "outputs": [],
   "source": [
    "#excluir a primeira linha da base / cabeçalho\n",
    "df_br = df_br.iloc[1:]"
   ]
  },
  {
   "cell_type": "code",
   "execution_count": 9,
   "metadata": {
    "id": "7rVPycBWqckN"
   },
   "outputs": [],
   "source": [
    "df = pd.concat([df_us,df_br])"
   ]
  },
  {
   "cell_type": "code",
   "execution_count": 10,
   "metadata": {
    "scrolled": true
   },
   "outputs": [],
   "source": [
    "df['Mês'] = df['Data de Competência'].dt.strftime('%B')\n",
    "df['Ano'] = df['Data de Competência'].dt.year"
   ]
  },
  {
   "cell_type": "code",
   "execution_count": 11,
   "metadata": {
    "colab": {
     "base_uri": "https://localhost:8080/"
    },
    "id": "6026kbN2oCJ7",
    "outputId": "e69dc66c-379d-46a6-fcc9-0e60eca530cc"
   },
   "outputs": [
    {
     "name": "stdout",
     "output_type": "stream",
     "text": [
      "<class 'pandas.core.frame.DataFrame'>\n",
      "Index: 51024 entries, 0 to 19968\n",
      "Data columns (total 12 columns):\n",
      " #   Column                Non-Null Count  Dtype         \n",
      "---  ------                --------------  -----         \n",
      " 0   Origem                51024 non-null  object        \n",
      " 1   Data de Competência   50022 non-null  datetime64[ns]\n",
      " 2   Categoria             50022 non-null  object        \n",
      " 3   Descrição             50022 non-null  object        \n",
      " 4   Cliente / Fornecedor  50022 non-null  object        \n",
      " 5   Valor recebido        28737 non-null  float64       \n",
      " 6   Valor pago            13630 non-null  float64       \n",
      " 7   Conta                 49834 non-null  object        \n",
      " 8   Centro de custo       39187 non-null  object        \n",
      " 9   Empresa               50022 non-null  object        \n",
      " 10  Mês                   50022 non-null  object        \n",
      " 11  Ano                   50022 non-null  float64       \n",
      "dtypes: datetime64[ns](1), float64(3), object(8)\n",
      "memory usage: 5.1+ MB\n"
     ]
    }
   ],
   "source": [
    "df.info()"
   ]
  },
  {
   "cell_type": "code",
   "execution_count": 12,
   "metadata": {
    "colab": {
     "base_uri": "https://localhost:8080/",
     "height": 311
    },
    "id": "LstGQl4bZpqC",
    "outputId": "123c5004-9815-483c-8533-93fab53604d5"
   },
   "outputs": [
    {
     "data": {
      "text/html": [
       "<div>\n",
       "<style scoped>\n",
       "    .dataframe tbody tr th:only-of-type {\n",
       "        vertical-align: middle;\n",
       "    }\n",
       "\n",
       "    .dataframe tbody tr th {\n",
       "        vertical-align: top;\n",
       "    }\n",
       "\n",
       "    .dataframe thead th {\n",
       "        text-align: right;\n",
       "    }\n",
       "</style>\n",
       "<table border=\"1\" class=\"dataframe\">\n",
       "  <thead>\n",
       "    <tr style=\"text-align: right;\">\n",
       "      <th></th>\n",
       "      <th>Origem</th>\n",
       "      <th>Data de Competência</th>\n",
       "      <th>Categoria</th>\n",
       "      <th>Descrição</th>\n",
       "      <th>Cliente / Fornecedor</th>\n",
       "      <th>Valor recebido</th>\n",
       "      <th>Valor pago</th>\n",
       "      <th>Conta</th>\n",
       "      <th>Centro de custo</th>\n",
       "      <th>Empresa</th>\n",
       "      <th>Mês</th>\n",
       "      <th>Ano</th>\n",
       "    </tr>\n",
       "  </thead>\n",
       "  <tbody>\n",
       "    <tr>\n",
       "      <th>0</th>\n",
       "      <td>US</td>\n",
       "      <td>2023-01-01</td>\n",
       "      <td>01.02.01.01.01 - EB1 - Honorários de Imigração</td>\n",
       "      <td>DESCRIÇÃO 956</td>\n",
       "      <td>CLIENTE 191</td>\n",
       "      <td>1300.0</td>\n",
       "      <td>NaN</td>\n",
       "      <td>14.01.03 - Accounts Receivable (A/R)</td>\n",
       "      <td>Comercial</td>\n",
       "      <td>SG LAW</td>\n",
       "      <td>January</td>\n",
       "      <td>2023.0</td>\n",
       "    </tr>\n",
       "    <tr>\n",
       "      <th>1</th>\n",
       "      <td>US</td>\n",
       "      <td>2023-01-01</td>\n",
       "      <td>01.02.01.02.01 - EB2 - NIW - Honorários de Imi...</td>\n",
       "      <td>DESCRIÇÃO 640</td>\n",
       "      <td>CLIENTE 164</td>\n",
       "      <td>1300.0</td>\n",
       "      <td>NaN</td>\n",
       "      <td>14.01.03 - Accounts Receivable (A/R)</td>\n",
       "      <td>Comercial</td>\n",
       "      <td>SG LAW</td>\n",
       "      <td>January</td>\n",
       "      <td>2023.0</td>\n",
       "    </tr>\n",
       "    <tr>\n",
       "      <th>2</th>\n",
       "      <td>US</td>\n",
       "      <td>2023-01-01</td>\n",
       "      <td>01.02.01.02.01 - EB2 - NIW - Honorários de Imi...</td>\n",
       "      <td>DESCRIÇÃO 988</td>\n",
       "      <td>CLIENTE 76</td>\n",
       "      <td>1300.0</td>\n",
       "      <td>NaN</td>\n",
       "      <td>14.01.03 - Accounts Receivable (A/R)</td>\n",
       "      <td>Comercial</td>\n",
       "      <td>SG LAW</td>\n",
       "      <td>January</td>\n",
       "      <td>2023.0</td>\n",
       "    </tr>\n",
       "    <tr>\n",
       "      <th>3</th>\n",
       "      <td>US</td>\n",
       "      <td>2023-01-01</td>\n",
       "      <td>01.02.01.02.01 - EB2 - NIW - Honorários de Imi...</td>\n",
       "      <td>DESCRIÇÃO 940</td>\n",
       "      <td>CLIENTE 77</td>\n",
       "      <td>1300.0</td>\n",
       "      <td>NaN</td>\n",
       "      <td>14.01.03 - Accounts Receivable (A/R)</td>\n",
       "      <td>Comercial</td>\n",
       "      <td>SG LAW</td>\n",
       "      <td>January</td>\n",
       "      <td>2023.0</td>\n",
       "    </tr>\n",
       "    <tr>\n",
       "      <th>4</th>\n",
       "      <td>US</td>\n",
       "      <td>2023-01-01</td>\n",
       "      <td>01.02.01.02.01 - EB2 - NIW - Honorários de Imi...</td>\n",
       "      <td>DESCRIÇÃO 992</td>\n",
       "      <td>CLIENTE 13</td>\n",
       "      <td>1300.0</td>\n",
       "      <td>NaN</td>\n",
       "      <td>14.01.03 - Accounts Receivable (A/R)</td>\n",
       "      <td>Comercial</td>\n",
       "      <td>SG LAW</td>\n",
       "      <td>January</td>\n",
       "      <td>2023.0</td>\n",
       "    </tr>\n",
       "  </tbody>\n",
       "</table>\n",
       "</div>"
      ],
      "text/plain": [
       "  Origem Data de Competência  \\\n",
       "0     US          2023-01-01   \n",
       "1     US          2023-01-01   \n",
       "2     US          2023-01-01   \n",
       "3     US          2023-01-01   \n",
       "4     US          2023-01-01   \n",
       "\n",
       "                                           Categoria      Descrição  \\\n",
       "0     01.02.01.01.01 - EB1 - Honorários de Imigração  DESCRIÇÃO 956   \n",
       "1  01.02.01.02.01 - EB2 - NIW - Honorários de Imi...  DESCRIÇÃO 640   \n",
       "2  01.02.01.02.01 - EB2 - NIW - Honorários de Imi...  DESCRIÇÃO 988   \n",
       "3  01.02.01.02.01 - EB2 - NIW - Honorários de Imi...  DESCRIÇÃO 940   \n",
       "4  01.02.01.02.01 - EB2 - NIW - Honorários de Imi...  DESCRIÇÃO 992   \n",
       "\n",
       "  Cliente / Fornecedor  Valor recebido  Valor pago  \\\n",
       "0          CLIENTE 191          1300.0         NaN   \n",
       "1          CLIENTE 164          1300.0         NaN   \n",
       "2           CLIENTE 76          1300.0         NaN   \n",
       "3           CLIENTE 77          1300.0         NaN   \n",
       "4           CLIENTE 13          1300.0         NaN   \n",
       "\n",
       "                                  Conta Centro de custo Empresa      Mês  \\\n",
       "0  14.01.03 - Accounts Receivable (A/R)       Comercial  SG LAW  January   \n",
       "1  14.01.03 - Accounts Receivable (A/R)       Comercial  SG LAW  January   \n",
       "2  14.01.03 - Accounts Receivable (A/R)       Comercial  SG LAW  January   \n",
       "3  14.01.03 - Accounts Receivable (A/R)       Comercial  SG LAW  January   \n",
       "4  14.01.03 - Accounts Receivable (A/R)       Comercial  SG LAW  January   \n",
       "\n",
       "      Ano  \n",
       "0  2023.0  \n",
       "1  2023.0  \n",
       "2  2023.0  \n",
       "3  2023.0  \n",
       "4  2023.0  "
      ]
     },
     "execution_count": 12,
     "metadata": {},
     "output_type": "execute_result"
    }
   ],
   "source": [
    "df.head()"
   ]
  },
  {
   "cell_type": "code",
   "execution_count": 13,
   "metadata": {
    "id": "EOh2-Oqhfx73"
   },
   "outputs": [],
   "source": [
    "# criando chaves extrangeiras onde ausentes (identificadas no excel)\n",
    "df.loc[df['Categoria'] == 'Transferência de Entrada', 'Categoria'] = '01' + df.loc[df['Categoria'] == 'Transferência de Entrada', 'Categoria']\n",
    "df.loc[df['Categoria'] == 'Transferência de Saída', 'Categoria'] = '02' + df.loc[df['Categoria'] == 'Transferência de Saída', 'Categoria']\n",
    "df.loc[df['Categoria'] == 'Saldo Inicial', 'Categoria'] = '00 - ' + df.loc[df['Categoria'] == 'Saldo Inicial', 'Categoria']\n",
    "df.loc[df['Categoria'] == 'Descontos', 'Categoria'] = '99 - ' + df.loc[df['Categoria'] == 'Descontos', 'Categoria']"
   ]
  },
  {
   "cell_type": "code",
   "execution_count": 14,
   "metadata": {
    "id": "i-WPW_zhNzi9"
   },
   "outputs": [],
   "source": [
    "#separar categóricas de númericas e excluir coluna desnecessária no momento\n",
    "df[['Categoria_Num', 'Categoria']] = df['Categoria'].str.split('-', n=1, expand=True)\n",
    "df[['Conta_Num', 'Conta']] = df['Conta'].str.split('-', n=1, expand=True)\n",
    "df['Categoria_Num'] = df['Categoria_Num'].str.replace('.', '')"
   ]
  },
  {
   "cell_type": "code",
   "execution_count": 15,
   "metadata": {},
   "outputs": [],
   "source": [
    "#df.drop(columns=['Conta_Num'], inplace=True)"
   ]
  },
  {
   "cell_type": "code",
   "execution_count": 16,
   "metadata": {
    "id": "rSm_jeQvPUiZ"
   },
   "outputs": [],
   "source": [
    "#reordenar\n",
    "df = df [['Origem','Data de Competência','Mês','Ano', 'Categoria_Num','Categoria','Descrição','Cliente / Fornecedor','Valor recebido','Valor pago','Centro de custo','Conta', 'Empresa']]"
   ]
  },
  {
   "cell_type": "code",
   "execution_count": 17,
   "metadata": {
    "id": "dW7wjOBMc57x"
   },
   "outputs": [],
   "source": [
    "#dropando os nulos\n",
    "df.dropna(how='all', inplace=True)"
   ]
  },
  {
   "cell_type": "code",
   "execution_count": 18,
   "metadata": {
    "colab": {
     "base_uri": "https://localhost:8080/"
    },
    "id": "BGlikzLwzmA_",
    "outputId": "4871ffd1-4439-466a-f747-40e08ea1ef60"
   },
   "outputs": [
    {
     "data": {
      "text/plain": [
       "Origem                      0\n",
       "Data de Competência      1002\n",
       "Mês                      1002\n",
       "Ano                      1002\n",
       "Categoria_Num            1002\n",
       "Categoria                2265\n",
       "Descrição                1002\n",
       "Cliente / Fornecedor     1002\n",
       "Valor recebido          22287\n",
       "Valor pago              37394\n",
       "Centro de custo         11837\n",
       "Conta                   28656\n",
       "Empresa                  1002\n",
       "dtype: int64"
      ]
     },
     "execution_count": 18,
     "metadata": {},
     "output_type": "execute_result"
    }
   ],
   "source": [
    "df.isnull().sum()"
   ]
  },
  {
   "cell_type": "code",
   "execution_count": 19,
   "metadata": {
    "colab": {
     "base_uri": "https://localhost:8080/",
     "height": 311
    },
    "id": "AlNnNEMZbPqu",
    "outputId": "1c79d4ce-2f7d-43bb-8da7-33c48b2c64f1"
   },
   "outputs": [
    {
     "data": {
      "text/html": [
       "<div>\n",
       "<style scoped>\n",
       "    .dataframe tbody tr th:only-of-type {\n",
       "        vertical-align: middle;\n",
       "    }\n",
       "\n",
       "    .dataframe tbody tr th {\n",
       "        vertical-align: top;\n",
       "    }\n",
       "\n",
       "    .dataframe thead th {\n",
       "        text-align: right;\n",
       "    }\n",
       "</style>\n",
       "<table border=\"1\" class=\"dataframe\">\n",
       "  <thead>\n",
       "    <tr style=\"text-align: right;\">\n",
       "      <th></th>\n",
       "      <th>Origem</th>\n",
       "      <th>Data de Competência</th>\n",
       "      <th>Mês</th>\n",
       "      <th>Ano</th>\n",
       "      <th>Categoria_Num</th>\n",
       "      <th>Categoria</th>\n",
       "      <th>Descrição</th>\n",
       "      <th>Cliente / Fornecedor</th>\n",
       "      <th>Valor recebido</th>\n",
       "      <th>Valor pago</th>\n",
       "      <th>Centro de custo</th>\n",
       "      <th>Conta</th>\n",
       "      <th>Empresa</th>\n",
       "    </tr>\n",
       "  </thead>\n",
       "  <tbody>\n",
       "    <tr>\n",
       "      <th>0</th>\n",
       "      <td>US</td>\n",
       "      <td>2023-01-01</td>\n",
       "      <td>January</td>\n",
       "      <td>2023.0</td>\n",
       "      <td>0102010101</td>\n",
       "      <td>EB1 - Honorários de Imigração</td>\n",
       "      <td>DESCRIÇÃO 956</td>\n",
       "      <td>CLIENTE 191</td>\n",
       "      <td>1300.0</td>\n",
       "      <td>NaN</td>\n",
       "      <td>Comercial</td>\n",
       "      <td>Accounts Receivable (A/R)</td>\n",
       "      <td>SG LAW</td>\n",
       "    </tr>\n",
       "    <tr>\n",
       "      <th>1</th>\n",
       "      <td>US</td>\n",
       "      <td>2023-01-01</td>\n",
       "      <td>January</td>\n",
       "      <td>2023.0</td>\n",
       "      <td>0102010201</td>\n",
       "      <td>EB2 - NIW - Honorários de Imigração</td>\n",
       "      <td>DESCRIÇÃO 640</td>\n",
       "      <td>CLIENTE 164</td>\n",
       "      <td>1300.0</td>\n",
       "      <td>NaN</td>\n",
       "      <td>Comercial</td>\n",
       "      <td>Accounts Receivable (A/R)</td>\n",
       "      <td>SG LAW</td>\n",
       "    </tr>\n",
       "    <tr>\n",
       "      <th>2</th>\n",
       "      <td>US</td>\n",
       "      <td>2023-01-01</td>\n",
       "      <td>January</td>\n",
       "      <td>2023.0</td>\n",
       "      <td>0102010201</td>\n",
       "      <td>EB2 - NIW - Honorários de Imigração</td>\n",
       "      <td>DESCRIÇÃO 988</td>\n",
       "      <td>CLIENTE 76</td>\n",
       "      <td>1300.0</td>\n",
       "      <td>NaN</td>\n",
       "      <td>Comercial</td>\n",
       "      <td>Accounts Receivable (A/R)</td>\n",
       "      <td>SG LAW</td>\n",
       "    </tr>\n",
       "    <tr>\n",
       "      <th>3</th>\n",
       "      <td>US</td>\n",
       "      <td>2023-01-01</td>\n",
       "      <td>January</td>\n",
       "      <td>2023.0</td>\n",
       "      <td>0102010201</td>\n",
       "      <td>EB2 - NIW - Honorários de Imigração</td>\n",
       "      <td>DESCRIÇÃO 940</td>\n",
       "      <td>CLIENTE 77</td>\n",
       "      <td>1300.0</td>\n",
       "      <td>NaN</td>\n",
       "      <td>Comercial</td>\n",
       "      <td>Accounts Receivable (A/R)</td>\n",
       "      <td>SG LAW</td>\n",
       "    </tr>\n",
       "    <tr>\n",
       "      <th>4</th>\n",
       "      <td>US</td>\n",
       "      <td>2023-01-01</td>\n",
       "      <td>January</td>\n",
       "      <td>2023.0</td>\n",
       "      <td>0102010201</td>\n",
       "      <td>EB2 - NIW - Honorários de Imigração</td>\n",
       "      <td>DESCRIÇÃO 992</td>\n",
       "      <td>CLIENTE 13</td>\n",
       "      <td>1300.0</td>\n",
       "      <td>NaN</td>\n",
       "      <td>Comercial</td>\n",
       "      <td>Accounts Receivable (A/R)</td>\n",
       "      <td>SG LAW</td>\n",
       "    </tr>\n",
       "  </tbody>\n",
       "</table>\n",
       "</div>"
      ],
      "text/plain": [
       "  Origem Data de Competência      Mês     Ano Categoria_Num  \\\n",
       "0     US          2023-01-01  January  2023.0   0102010101    \n",
       "1     US          2023-01-01  January  2023.0   0102010201    \n",
       "2     US          2023-01-01  January  2023.0   0102010201    \n",
       "3     US          2023-01-01  January  2023.0   0102010201    \n",
       "4     US          2023-01-01  January  2023.0   0102010201    \n",
       "\n",
       "                              Categoria      Descrição Cliente / Fornecedor  \\\n",
       "0         EB1 - Honorários de Imigração  DESCRIÇÃO 956          CLIENTE 191   \n",
       "1   EB2 - NIW - Honorários de Imigração  DESCRIÇÃO 640          CLIENTE 164   \n",
       "2   EB2 - NIW - Honorários de Imigração  DESCRIÇÃO 988           CLIENTE 76   \n",
       "3   EB2 - NIW - Honorários de Imigração  DESCRIÇÃO 940           CLIENTE 77   \n",
       "4   EB2 - NIW - Honorários de Imigração  DESCRIÇÃO 992           CLIENTE 13   \n",
       "\n",
       "   Valor recebido  Valor pago Centro de custo                       Conta  \\\n",
       "0          1300.0         NaN       Comercial   Accounts Receivable (A/R)   \n",
       "1          1300.0         NaN       Comercial   Accounts Receivable (A/R)   \n",
       "2          1300.0         NaN       Comercial   Accounts Receivable (A/R)   \n",
       "3          1300.0         NaN       Comercial   Accounts Receivable (A/R)   \n",
       "4          1300.0         NaN       Comercial   Accounts Receivable (A/R)   \n",
       "\n",
       "  Empresa  \n",
       "0  SG LAW  \n",
       "1  SG LAW  \n",
       "2  SG LAW  \n",
       "3  SG LAW  \n",
       "4  SG LAW  "
      ]
     },
     "execution_count": 19,
     "metadata": {},
     "output_type": "execute_result"
    }
   ],
   "source": [
    "df.head()"
   ]
  },
  {
   "cell_type": "code",
   "execution_count": 20,
   "metadata": {
    "id": "wgjbuDDOck3H"
   },
   "outputs": [],
   "source": [
    "#removendo espaç\n",
    "df['Categoria_Num'] = df['Categoria_Num'].str.strip()\n",
    "df['Conta'] = df['Conta'].str.strip()"
   ]
  },
  {
   "cell_type": "code",
   "execution_count": 21,
   "metadata": {
    "colab": {
     "base_uri": "https://localhost:8080/"
    },
    "id": "FtsRfTi45HsO",
    "outputId": "2d60b574-6219-49c9-aaed-7c57cd207da9"
   },
   "outputs": [],
   "source": [
    "#preencher os valores nulos\n",
    "df_cat = ['Centro de custo', 'Descrição', 'Categoria', 'Cliente / Fornecedor', 'Conta', 'Empresa']\n",
    "for i in df_cat:\n",
    "    df[i].fillna('NI', inplace=True)"
   ]
  },
  {
   "cell_type": "code",
   "execution_count": null,
   "metadata": {},
   "outputs": [],
   "source": []
  },
  {
   "cell_type": "code",
   "execution_count": 22,
   "metadata": {
    "colab": {
     "base_uri": "https://localhost:8080/"
    },
    "id": "80kXhqXP5PPI",
    "outputId": "5fc06852-5b7f-4977-b2e4-c1388bb58a2a"
   },
   "outputs": [],
   "source": [
    "#preencher os valores nulos\n",
    "df_num = ['Categoria_Num', 'Valor recebido', 'Valor pago']\n",
    "for i in df_num:\n",
    "    df[i].fillna(0, inplace=True)"
   ]
  },
  {
   "cell_type": "code",
   "execution_count": 23,
   "metadata": {
    "id": "M8WZTZ7abh79"
   },
   "outputs": [],
   "source": [
    "# padronização caixa alta\n",
    "for i in df_cat:\n",
    "    df[i] = df[i].str.upper()"
   ]
  },
  {
   "cell_type": "code",
   "execution_count": 24,
   "metadata": {},
   "outputs": [],
   "source": [
    "df['Total'] = df['Valor recebido'] - df['Valor pago']\n",
    "df['Tipo'] = df['Total'].apply(lambda x: 'Entrada' if x > 0 else 'Saída')"
   ]
  },
  {
   "cell_type": "code",
   "execution_count": 25,
   "metadata": {
    "colab": {
     "base_uri": "https://localhost:8080/",
     "height": 736
    },
    "id": "yLsyjacXdPVh",
    "outputId": "e81d609a-72c4-4af2-e261-300330eb79e9"
   },
   "outputs": [
    {
     "data": {
      "text/html": [
       "<div>\n",
       "<style scoped>\n",
       "    .dataframe tbody tr th:only-of-type {\n",
       "        vertical-align: middle;\n",
       "    }\n",
       "\n",
       "    .dataframe tbody tr th {\n",
       "        vertical-align: top;\n",
       "    }\n",
       "\n",
       "    .dataframe thead th {\n",
       "        text-align: right;\n",
       "    }\n",
       "</style>\n",
       "<table border=\"1\" class=\"dataframe\">\n",
       "  <thead>\n",
       "    <tr style=\"text-align: right;\">\n",
       "      <th></th>\n",
       "      <th>Origem</th>\n",
       "      <th>Data de Competência</th>\n",
       "      <th>Mês</th>\n",
       "      <th>Ano</th>\n",
       "      <th>Categoria_Num</th>\n",
       "      <th>Categoria</th>\n",
       "      <th>Descrição</th>\n",
       "      <th>Cliente / Fornecedor</th>\n",
       "      <th>Valor recebido</th>\n",
       "      <th>Valor pago</th>\n",
       "      <th>Centro de custo</th>\n",
       "      <th>Conta</th>\n",
       "      <th>Empresa</th>\n",
       "      <th>Total</th>\n",
       "      <th>Tipo</th>\n",
       "    </tr>\n",
       "  </thead>\n",
       "  <tbody>\n",
       "    <tr>\n",
       "      <th>0</th>\n",
       "      <td>US</td>\n",
       "      <td>2023-01-01</td>\n",
       "      <td>January</td>\n",
       "      <td>2023.0</td>\n",
       "      <td>0102010101</td>\n",
       "      <td>EB1 - HONORÁRIOS DE IMIGRAÇÃO</td>\n",
       "      <td>DESCRIÇÃO 956</td>\n",
       "      <td>CLIENTE 191</td>\n",
       "      <td>1300.0</td>\n",
       "      <td>0.0</td>\n",
       "      <td>COMERCIAL</td>\n",
       "      <td>ACCOUNTS RECEIVABLE (A/R)</td>\n",
       "      <td>SG LAW</td>\n",
       "      <td>1300.0</td>\n",
       "      <td>Entrada</td>\n",
       "    </tr>\n",
       "    <tr>\n",
       "      <th>1</th>\n",
       "      <td>US</td>\n",
       "      <td>2023-01-01</td>\n",
       "      <td>January</td>\n",
       "      <td>2023.0</td>\n",
       "      <td>0102010201</td>\n",
       "      <td>EB2 - NIW - HONORÁRIOS DE IMIGRAÇÃO</td>\n",
       "      <td>DESCRIÇÃO 640</td>\n",
       "      <td>CLIENTE 164</td>\n",
       "      <td>1300.0</td>\n",
       "      <td>0.0</td>\n",
       "      <td>COMERCIAL</td>\n",
       "      <td>ACCOUNTS RECEIVABLE (A/R)</td>\n",
       "      <td>SG LAW</td>\n",
       "      <td>1300.0</td>\n",
       "      <td>Entrada</td>\n",
       "    </tr>\n",
       "    <tr>\n",
       "      <th>2</th>\n",
       "      <td>US</td>\n",
       "      <td>2023-01-01</td>\n",
       "      <td>January</td>\n",
       "      <td>2023.0</td>\n",
       "      <td>0102010201</td>\n",
       "      <td>EB2 - NIW - HONORÁRIOS DE IMIGRAÇÃO</td>\n",
       "      <td>DESCRIÇÃO 988</td>\n",
       "      <td>CLIENTE 76</td>\n",
       "      <td>1300.0</td>\n",
       "      <td>0.0</td>\n",
       "      <td>COMERCIAL</td>\n",
       "      <td>ACCOUNTS RECEIVABLE (A/R)</td>\n",
       "      <td>SG LAW</td>\n",
       "      <td>1300.0</td>\n",
       "      <td>Entrada</td>\n",
       "    </tr>\n",
       "    <tr>\n",
       "      <th>3</th>\n",
       "      <td>US</td>\n",
       "      <td>2023-01-01</td>\n",
       "      <td>January</td>\n",
       "      <td>2023.0</td>\n",
       "      <td>0102010201</td>\n",
       "      <td>EB2 - NIW - HONORÁRIOS DE IMIGRAÇÃO</td>\n",
       "      <td>DESCRIÇÃO 940</td>\n",
       "      <td>CLIENTE 77</td>\n",
       "      <td>1300.0</td>\n",
       "      <td>0.0</td>\n",
       "      <td>COMERCIAL</td>\n",
       "      <td>ACCOUNTS RECEIVABLE (A/R)</td>\n",
       "      <td>SG LAW</td>\n",
       "      <td>1300.0</td>\n",
       "      <td>Entrada</td>\n",
       "    </tr>\n",
       "    <tr>\n",
       "      <th>4</th>\n",
       "      <td>US</td>\n",
       "      <td>2023-01-01</td>\n",
       "      <td>January</td>\n",
       "      <td>2023.0</td>\n",
       "      <td>0102010201</td>\n",
       "      <td>EB2 - NIW - HONORÁRIOS DE IMIGRAÇÃO</td>\n",
       "      <td>DESCRIÇÃO 992</td>\n",
       "      <td>CLIENTE 13</td>\n",
       "      <td>1300.0</td>\n",
       "      <td>0.0</td>\n",
       "      <td>COMERCIAL</td>\n",
       "      <td>ACCOUNTS RECEIVABLE (A/R)</td>\n",
       "      <td>SG LAW</td>\n",
       "      <td>1300.0</td>\n",
       "      <td>Entrada</td>\n",
       "    </tr>\n",
       "    <tr>\n",
       "      <th>5</th>\n",
       "      <td>US</td>\n",
       "      <td>2023-01-01</td>\n",
       "      <td>January</td>\n",
       "      <td>2023.0</td>\n",
       "      <td>0102010201</td>\n",
       "      <td>EB2 - NIW - HONORÁRIOS DE IMIGRAÇÃO</td>\n",
       "      <td>DESCRIÇÃO 810</td>\n",
       "      <td>CLIENTE 124</td>\n",
       "      <td>1300.0</td>\n",
       "      <td>0.0</td>\n",
       "      <td>COMERCIAL</td>\n",
       "      <td>ACCOUNTS RECEIVABLE (A/R)</td>\n",
       "      <td>SG LAW</td>\n",
       "      <td>1300.0</td>\n",
       "      <td>Entrada</td>\n",
       "    </tr>\n",
       "    <tr>\n",
       "      <th>6</th>\n",
       "      <td>US</td>\n",
       "      <td>2023-01-01</td>\n",
       "      <td>January</td>\n",
       "      <td>2023.0</td>\n",
       "      <td>0102010201</td>\n",
       "      <td>EB2 - NIW - HONORÁRIOS DE IMIGRAÇÃO</td>\n",
       "      <td>DESCRIÇÃO 283</td>\n",
       "      <td>CLIENTE 101</td>\n",
       "      <td>1300.0</td>\n",
       "      <td>0.0</td>\n",
       "      <td>COMERCIAL</td>\n",
       "      <td>ACCOUNTS RECEIVABLE (A/R)</td>\n",
       "      <td>SG LAW</td>\n",
       "      <td>1300.0</td>\n",
       "      <td>Entrada</td>\n",
       "    </tr>\n",
       "    <tr>\n",
       "      <th>7</th>\n",
       "      <td>US</td>\n",
       "      <td>2023-01-01</td>\n",
       "      <td>January</td>\n",
       "      <td>2023.0</td>\n",
       "      <td>0102010201</td>\n",
       "      <td>EB2 - NIW - HONORÁRIOS DE IMIGRAÇÃO</td>\n",
       "      <td>DESCRIÇÃO 587</td>\n",
       "      <td>CLIENTE 58</td>\n",
       "      <td>1300.0</td>\n",
       "      <td>0.0</td>\n",
       "      <td>COMERCIAL</td>\n",
       "      <td>ACCOUNTS RECEIVABLE (A/R)</td>\n",
       "      <td>SG LAW</td>\n",
       "      <td>1300.0</td>\n",
       "      <td>Entrada</td>\n",
       "    </tr>\n",
       "    <tr>\n",
       "      <th>8</th>\n",
       "      <td>US</td>\n",
       "      <td>2023-01-01</td>\n",
       "      <td>January</td>\n",
       "      <td>2023.0</td>\n",
       "      <td>0102010201</td>\n",
       "      <td>EB2 - NIW - HONORÁRIOS DE IMIGRAÇÃO</td>\n",
       "      <td>DESCRIÇÃO 850</td>\n",
       "      <td>CLIENTE 8</td>\n",
       "      <td>1300.0</td>\n",
       "      <td>0.0</td>\n",
       "      <td>COMERCIAL</td>\n",
       "      <td>ACCOUNTS RECEIVABLE (A/R)</td>\n",
       "      <td>SG LAW</td>\n",
       "      <td>1300.0</td>\n",
       "      <td>Entrada</td>\n",
       "    </tr>\n",
       "    <tr>\n",
       "      <th>9</th>\n",
       "      <td>US</td>\n",
       "      <td>2023-01-01</td>\n",
       "      <td>January</td>\n",
       "      <td>2023.0</td>\n",
       "      <td>0102010201</td>\n",
       "      <td>EB2 - NIW - HONORÁRIOS DE IMIGRAÇÃO</td>\n",
       "      <td>DESCRIÇÃO 729</td>\n",
       "      <td>CLIENTE 104</td>\n",
       "      <td>1300.0</td>\n",
       "      <td>0.0</td>\n",
       "      <td>COMERCIAL</td>\n",
       "      <td>ACCOUNTS RECEIVABLE (A/R)</td>\n",
       "      <td>SG LAW</td>\n",
       "      <td>1300.0</td>\n",
       "      <td>Entrada</td>\n",
       "    </tr>\n",
       "  </tbody>\n",
       "</table>\n",
       "</div>"
      ],
      "text/plain": [
       "  Origem Data de Competência      Mês     Ano Categoria_Num  \\\n",
       "0     US          2023-01-01  January  2023.0    0102010101   \n",
       "1     US          2023-01-01  January  2023.0    0102010201   \n",
       "2     US          2023-01-01  January  2023.0    0102010201   \n",
       "3     US          2023-01-01  January  2023.0    0102010201   \n",
       "4     US          2023-01-01  January  2023.0    0102010201   \n",
       "5     US          2023-01-01  January  2023.0    0102010201   \n",
       "6     US          2023-01-01  January  2023.0    0102010201   \n",
       "7     US          2023-01-01  January  2023.0    0102010201   \n",
       "8     US          2023-01-01  January  2023.0    0102010201   \n",
       "9     US          2023-01-01  January  2023.0    0102010201   \n",
       "\n",
       "                              Categoria      Descrição Cliente / Fornecedor  \\\n",
       "0         EB1 - HONORÁRIOS DE IMIGRAÇÃO  DESCRIÇÃO 956          CLIENTE 191   \n",
       "1   EB2 - NIW - HONORÁRIOS DE IMIGRAÇÃO  DESCRIÇÃO 640          CLIENTE 164   \n",
       "2   EB2 - NIW - HONORÁRIOS DE IMIGRAÇÃO  DESCRIÇÃO 988           CLIENTE 76   \n",
       "3   EB2 - NIW - HONORÁRIOS DE IMIGRAÇÃO  DESCRIÇÃO 940           CLIENTE 77   \n",
       "4   EB2 - NIW - HONORÁRIOS DE IMIGRAÇÃO  DESCRIÇÃO 992           CLIENTE 13   \n",
       "5   EB2 - NIW - HONORÁRIOS DE IMIGRAÇÃO  DESCRIÇÃO 810          CLIENTE 124   \n",
       "6   EB2 - NIW - HONORÁRIOS DE IMIGRAÇÃO  DESCRIÇÃO 283          CLIENTE 101   \n",
       "7   EB2 - NIW - HONORÁRIOS DE IMIGRAÇÃO  DESCRIÇÃO 587           CLIENTE 58   \n",
       "8   EB2 - NIW - HONORÁRIOS DE IMIGRAÇÃO  DESCRIÇÃO 850            CLIENTE 8   \n",
       "9   EB2 - NIW - HONORÁRIOS DE IMIGRAÇÃO  DESCRIÇÃO 729          CLIENTE 104   \n",
       "\n",
       "   Valor recebido  Valor pago Centro de custo                      Conta  \\\n",
       "0          1300.0         0.0       COMERCIAL  ACCOUNTS RECEIVABLE (A/R)   \n",
       "1          1300.0         0.0       COMERCIAL  ACCOUNTS RECEIVABLE (A/R)   \n",
       "2          1300.0         0.0       COMERCIAL  ACCOUNTS RECEIVABLE (A/R)   \n",
       "3          1300.0         0.0       COMERCIAL  ACCOUNTS RECEIVABLE (A/R)   \n",
       "4          1300.0         0.0       COMERCIAL  ACCOUNTS RECEIVABLE (A/R)   \n",
       "5          1300.0         0.0       COMERCIAL  ACCOUNTS RECEIVABLE (A/R)   \n",
       "6          1300.0         0.0       COMERCIAL  ACCOUNTS RECEIVABLE (A/R)   \n",
       "7          1300.0         0.0       COMERCIAL  ACCOUNTS RECEIVABLE (A/R)   \n",
       "8          1300.0         0.0       COMERCIAL  ACCOUNTS RECEIVABLE (A/R)   \n",
       "9          1300.0         0.0       COMERCIAL  ACCOUNTS RECEIVABLE (A/R)   \n",
       "\n",
       "  Empresa   Total     Tipo  \n",
       "0  SG LAW  1300.0  Entrada  \n",
       "1  SG LAW  1300.0  Entrada  \n",
       "2  SG LAW  1300.0  Entrada  \n",
       "3  SG LAW  1300.0  Entrada  \n",
       "4  SG LAW  1300.0  Entrada  \n",
       "5  SG LAW  1300.0  Entrada  \n",
       "6  SG LAW  1300.0  Entrada  \n",
       "7  SG LAW  1300.0  Entrada  \n",
       "8  SG LAW  1300.0  Entrada  \n",
       "9  SG LAW  1300.0  Entrada  "
      ]
     },
     "execution_count": 25,
     "metadata": {},
     "output_type": "execute_result"
    }
   ],
   "source": [
    "df.head(10)"
   ]
  },
  {
   "cell_type": "code",
   "execution_count": 26,
   "metadata": {
    "colab": {
     "base_uri": "https://localhost:8080/"
    },
    "id": "5I9-Ohawnx25",
    "outputId": "861582bf-f511-4b59-ba71-8e13ac05a961"
   },
   "outputs": [
    {
     "name": "stdout",
     "output_type": "stream",
     "text": [
      "<class 'pandas.core.frame.DataFrame'>\n",
      "Index: 51024 entries, 0 to 19968\n",
      "Data columns (total 15 columns):\n",
      " #   Column                Non-Null Count  Dtype         \n",
      "---  ------                --------------  -----         \n",
      " 0   Origem                51024 non-null  object        \n",
      " 1   Data de Competência   50022 non-null  datetime64[ns]\n",
      " 2   Mês                   50022 non-null  object        \n",
      " 3   Ano                   50022 non-null  float64       \n",
      " 4   Categoria_Num         51024 non-null  object        \n",
      " 5   Categoria             51024 non-null  object        \n",
      " 6   Descrição             51024 non-null  object        \n",
      " 7   Cliente / Fornecedor  51024 non-null  object        \n",
      " 8   Valor recebido        51024 non-null  float64       \n",
      " 9   Valor pago            51024 non-null  float64       \n",
      " 10  Centro de custo       51024 non-null  object        \n",
      " 11  Conta                 51024 non-null  object        \n",
      " 12  Empresa               51024 non-null  object        \n",
      " 13  Total                 51024 non-null  float64       \n",
      " 14  Tipo                  51024 non-null  object        \n",
      "dtypes: datetime64[ns](1), float64(4), object(10)\n",
      "memory usage: 6.2+ MB\n"
     ]
    }
   ],
   "source": [
    "#eita coisa linda de ver\n",
    "df.info()"
   ]
  },
  {
   "cell_type": "code",
   "execution_count": 27,
   "metadata": {
    "id": "ifzoKsmbx-A_"
   },
   "outputs": [],
   "source": [
    "#ajustar o tipo  (não vou alterar os valores monetarios em float devido a inconsistência na base, foi sugestionado a empresa o ajuste  )\n",
    "df['Categoria_Num'] = df['Categoria_Num'].astype(str)\n",
    "df['Data de Competência'] = pd.to_datetime(df['Data de Competência']).dt.date"
   ]
  },
  {
   "cell_type": "code",
   "execution_count": 28,
   "metadata": {
    "id": "ceGqVzYEY4ON"
   },
   "outputs": [],
   "source": [
    "  #df.to_csv('Base.csv', sep=';', index = False, encoding = 'utf-8-sig')"
   ]
  },
  {
   "cell_type": "code",
   "execution_count": 29,
   "metadata": {
    "id": "DlD_4YtSgGfK"
   },
   "outputs": [],
   "source": [
    "#df.to_excel('Base.xlsx', index=False)"
   ]
  },
  {
   "cell_type": "code",
   "execution_count": 30,
   "metadata": {
    "id": "UDNHEsnSmE5b"
   },
   "outputs": [],
   "source": [
    "df_new = pd.DataFrame(df, )"
   ]
  },
  {
   "cell_type": "code",
   "execution_count": 31,
   "metadata": {
    "id": "fZpiveeN4LT7"
   },
   "outputs": [],
   "source": [
    "# tirar os pontos da nossa chave extrangeira nee\n",
    "df_pc.dropna(how='all', inplace=True)\n",
    "df['Categoria_Num'] = df['Categoria_Num'].astype(str)\n",
    "df_pc['Categoria_Num'] = df_pc['Categoria_Num'].str.replace('.', '')"
   ]
  },
  {
   "cell_type": "code",
   "execution_count": 32,
   "metadata": {
    "colab": {
     "base_uri": "https://localhost:8080/",
     "height": 424
    },
    "id": "4L6BA69d4dat",
    "outputId": "978f6434-f17c-4233-c791-c11d36e50e64"
   },
   "outputs": [
    {
     "data": {
      "text/html": [
       "<div>\n",
       "<style scoped>\n",
       "    .dataframe tbody tr th:only-of-type {\n",
       "        vertical-align: middle;\n",
       "    }\n",
       "\n",
       "    .dataframe tbody tr th {\n",
       "        vertical-align: top;\n",
       "    }\n",
       "\n",
       "    .dataframe thead th {\n",
       "        text-align: right;\n",
       "    }\n",
       "</style>\n",
       "<table border=\"1\" class=\"dataframe\">\n",
       "  <thead>\n",
       "    <tr style=\"text-align: right;\">\n",
       "      <th></th>\n",
       "      <th>Categoria_Num</th>\n",
       "      <th>Categoria</th>\n",
       "      <th>Total</th>\n",
       "    </tr>\n",
       "  </thead>\n",
       "  <tbody>\n",
       "    <tr>\n",
       "      <th>0</th>\n",
       "      <td>140103 - Accounts Receivable (A/R)</td>\n",
       "      <td>01.02.01.01.01 - EB1 - Honorários de Imigração</td>\n",
       "      <td>0</td>\n",
       "    </tr>\n",
       "    <tr>\n",
       "      <th>1</th>\n",
       "      <td>140103 - Accounts Receivable (A/R)</td>\n",
       "      <td>01.02.01.02.01 - EB2 - NIW - Honorários de Imi...</td>\n",
       "      <td>0</td>\n",
       "    </tr>\n",
       "    <tr>\n",
       "      <th>2</th>\n",
       "      <td>140103 - Accounts Receivable (A/R)</td>\n",
       "      <td>01.02.01.02.01 - EB2 - NIW - Honorários de Imi...</td>\n",
       "      <td>0</td>\n",
       "    </tr>\n",
       "    <tr>\n",
       "      <th>3</th>\n",
       "      <td>140103 - Accounts Receivable (A/R)</td>\n",
       "      <td>01.02.01.02.01 - EB2 - NIW - Honorários de Imi...</td>\n",
       "      <td>0</td>\n",
       "    </tr>\n",
       "    <tr>\n",
       "      <th>4</th>\n",
       "      <td>140103 - Accounts Receivable (A/R)</td>\n",
       "      <td>01.02.01.02.01 - EB2 - NIW - Honorários de Imi...</td>\n",
       "      <td>0</td>\n",
       "    </tr>\n",
       "    <tr>\n",
       "      <th>...</th>\n",
       "      <td>...</td>\n",
       "      <td>...</td>\n",
       "      <td>...</td>\n",
       "    </tr>\n",
       "    <tr>\n",
       "      <th>195</th>\n",
       "      <td>Valley Bank</td>\n",
       "      <td>06.02.05 - Tarifas bancárias</td>\n",
       "      <td>0</td>\n",
       "    </tr>\n",
       "    <tr>\n",
       "      <th>196</th>\n",
       "      <td>Valley Bank</td>\n",
       "      <td>06.02.05 - Tarifas bancárias</td>\n",
       "      <td>0</td>\n",
       "    </tr>\n",
       "    <tr>\n",
       "      <th>197</th>\n",
       "      <td>Valley Bank</td>\n",
       "      <td>06.02.05 - Tarifas bancárias</td>\n",
       "      <td>0</td>\n",
       "    </tr>\n",
       "    <tr>\n",
       "      <th>198</th>\n",
       "      <td>BUS COMPLETE CHK (5762) - 1</td>\n",
       "      <td>06.02.05 - Tarifas bancárias</td>\n",
       "      <td>0</td>\n",
       "    </tr>\n",
       "    <tr>\n",
       "      <th>199</th>\n",
       "      <td>BUS COMPLETE CHK (5762) - 1</td>\n",
       "      <td>06.02.05 - Tarifas bancárias</td>\n",
       "      <td>0</td>\n",
       "    </tr>\n",
       "  </tbody>\n",
       "</table>\n",
       "<p>200 rows × 3 columns</p>\n",
       "</div>"
      ],
      "text/plain": [
       "                          Categoria_Num  \\\n",
       "0    140103 - Accounts Receivable (A/R)   \n",
       "1    140103 - Accounts Receivable (A/R)   \n",
       "2    140103 - Accounts Receivable (A/R)   \n",
       "3    140103 - Accounts Receivable (A/R)   \n",
       "4    140103 - Accounts Receivable (A/R)   \n",
       "..                                  ...   \n",
       "195                         Valley Bank   \n",
       "196                         Valley Bank   \n",
       "197                         Valley Bank   \n",
       "198         BUS COMPLETE CHK (5762) - 1   \n",
       "199         BUS COMPLETE CHK (5762) - 1   \n",
       "\n",
       "                                             Categoria  Total  \n",
       "0       01.02.01.01.01 - EB1 - Honorários de Imigração      0  \n",
       "1    01.02.01.02.01 - EB2 - NIW - Honorários de Imi...      0  \n",
       "2    01.02.01.02.01 - EB2 - NIW - Honorários de Imi...      0  \n",
       "3    01.02.01.02.01 - EB2 - NIW - Honorários de Imi...      0  \n",
       "4    01.02.01.02.01 - EB2 - NIW - Honorários de Imi...      0  \n",
       "..                                                 ...    ...  \n",
       "195                       06.02.05 - Tarifas bancárias      0  \n",
       "196                       06.02.05 - Tarifas bancárias      0  \n",
       "197                       06.02.05 - Tarifas bancárias      0  \n",
       "198                       06.02.05 - Tarifas bancárias      0  \n",
       "199                       06.02.05 - Tarifas bancárias      0  \n",
       "\n",
       "[200 rows x 3 columns]"
      ]
     },
     "execution_count": 32,
     "metadata": {},
     "output_type": "execute_result"
    }
   ],
   "source": [
    "df_pc.head(200)"
   ]
  },
  {
   "cell_type": "code",
   "execution_count": 33,
   "metadata": {
    "id": "70jQ0jGr38U7"
   },
   "outputs": [],
   "source": [
    "#total_receita_bruta = pd.Series.sum(RECEITA_BRUTA['Total'])\n",
    "#total_deducao_impostos = pd.Series.sum(DEDUCAO_IMPOSTOS['Total'])"
   ]
  },
  {
   "cell_type": "code",
   "execution_count": 34,
   "metadata": {
    "id": "PplE4QT5IKJX"
   },
   "outputs": [],
   "source": [
    "#total_receita_bruta"
   ]
  },
  {
   "cell_type": "code",
   "execution_count": 35,
   "metadata": {
    "id": "En-LKSO8IMRd"
   },
   "outputs": [],
   "source": [
    "#total_deducao_impostos"
   ]
  },
  {
   "cell_type": "code",
   "execution_count": 36,
   "metadata": {
    "id": "-IulBEDXIXrg"
   },
   "outputs": [],
   "source": [
    "#total_receita_bruta - total_deducao_impostos"
   ]
  },
  {
   "cell_type": "code",
   "execution_count": 37,
   "metadata": {
    "id": "Rhq479PFFqzX"
   },
   "outputs": [],
   "source": [
    "#RECEITA_BRUTA = df[(df['Categoria_Num'].str.startswith('01') & (df['Categoria_Num'] != '0101')) | (df['Categoria_Num'] == '140103')].groupby(['Categoria_Num', 'Categoria'])['Valor recebido'].sum().reset_index()\n",
    "#RECEITA_BRUTA.columns = ['Categoria_Num', 'Categoria', 'Total']\n",
    "#RECEITA_BRUTA['Total'] = RECEITA_BRUTA['Total'].round(2)"
   ]
  },
  {
   "cell_type": "markdown",
   "metadata": {
    "id": "bpl9EDPDMpsx"
   },
   "source": [
    "# Categorias Princípais"
   ]
  },
  {
   "cell_type": "code",
   "execution_count": 38,
   "metadata": {
    "id": "ENweR6Kz0JKf"
   },
   "outputs": [],
   "source": [
    "###   (+)\n",
    "RECEITA_BRUTA = df[(df['Categoria_Num'].str.startswith('01')) | (df['Categoria_Num'] == '140103')].groupby(['Categoria_Num', 'Categoria'])['Valor recebido'].sum().reset_index()\n",
    "RECEITA_BRUTA.columns = ['Categoria_Num', 'Categoria', 'Total']\n",
    "RECEITA_BRUTA['Total'] = RECEITA_BRUTA['Total'].round(2)\n"
   ]
  },
  {
   "cell_type": "code",
   "execution_count": 39,
   "metadata": {
    "id": "invLEK8klWX2"
   },
   "outputs": [],
   "source": [
    "###   (-)\n",
    "DEDUCAO_IMPOSTOS = df[df['Categoria_Num'].str.startswith('02')].groupby(['Categoria_Num', 'Categoria'])['Valor pago'].sum().reset_index()\n",
    "DEDUCAO_IMPOSTOS.columns = ['Categoria_Num', 'Categoria', 'Total']\n",
    "DEDUCAO_IMPOSTOS['Total'] = -DEDUCAO_IMPOSTOS['Total'].round(2)"
   ]
  },
  {
   "cell_type": "code",
   "execution_count": 40,
   "metadata": {
    "id": "YLZ4mrcItD7N"
   },
   "outputs": [],
   "source": [
    "###   (-)\n",
    "CUSTOS_SERV_VENDIDO = df[df['Categoria_Num'].str.startswith('03')].groupby(['Categoria_Num', 'Categoria'])['Valor pago'].sum().reset_index()\n",
    "CUSTOS_SERV_VENDIDO.columns = ['Categoria_Num', 'Categoria', 'Total']\n",
    "CUSTOS_SERV_VENDIDO['Total'] = -CUSTOS_SERV_VENDIDO['Total'].round(2)"
   ]
  },
  {
   "cell_type": "code",
   "execution_count": 41,
   "metadata": {
    "id": "T4aIooaQss6B"
   },
   "outputs": [],
   "source": [
    "###   (-)\n",
    "DESPESAS_OPERACIONAIS = df[df['Categoria_Num'].str.startswith('04')].groupby(['Categoria_Num', 'Categoria'])['Valor pago'].sum().reset_index()\n",
    "DESPESAS_OPERACIONAIS.columns = ['Categoria_Num', 'Categoria', 'Total']\n",
    "DESPESAS_OPERACIONAIS['Total'] = -DESPESAS_OPERACIONAIS['Total'].round(2)"
   ]
  },
  {
   "cell_type": "code",
   "execution_count": 42,
   "metadata": {
    "id": "FX66cnQjt7cy"
   },
   "outputs": [],
   "source": [
    "###   (-)\n",
    "DEPRECIACOES_AMORTIZACOES = df[df['Categoria_Num'].str.startswith('05')].groupby(['Categoria_Num', 'Categoria'])['Valor pago'].sum().reset_index()\n",
    "DEPRECIACOES_AMORTIZACOES.columns = ['Categoria_Num', 'Categoria', 'Total']\n",
    "DEPRECIACOES_AMORTIZACOES['Total'] = -DEPRECIACOES_AMORTIZACOES['Total'].round(2)"
   ]
  },
  {
   "cell_type": "code",
   "execution_count": 43,
   "metadata": {
    "id": "TBDdNowvxdLS"
   },
   "outputs": [],
   "source": [
    "###   (=)\n",
    "RESULTADO_FINANCEIRO = df[(df['Categoria_Num'].str.startswith('0601')) | (df['Categoria_Num'].str.startswith('0602'))].copy()\n",
    "\n",
    "RESULTADO_FINANCEIRO_0601 = RESULTADO_FINANCEIRO[RESULTADO_FINANCEIRO['Categoria_Num'].str.startswith('0601')].groupby(['Categoria_Num', 'Categoria'])['Valor recebido'].sum().reset_index()\n",
    "RESULTADO_FINANCEIRO_0601.columns = ['Categoria_Num', 'Categoria', 'Total']\n",
    "RESULTADO_FINANCEIRO_0601['Total'] = RESULTADO_FINANCEIRO_0601['Total'].round(2)\n",
    "\n",
    "RESULTADO_FINANCEIRO_0602 = RESULTADO_FINANCEIRO[RESULTADO_FINANCEIRO['Categoria_Num'].str.startswith('0602')].groupby(['Categoria_Num', 'Categoria'])['Valor pago'].sum().reset_index()\n",
    "RESULTADO_FINANCEIRO_0602.columns = ['Categoria_Num', 'Categoria', 'Total']\n",
    "RESULTADO_FINANCEIRO_0602['Total'] = RESULTADO_FINANCEIRO_0602['Total'].round(2)\n",
    "\n",
    "RESULTADO_FINANCEIRO = RESULTADO_FINANCEIRO_0601 + RESULTADO_FINANCEIRO_0602"
   ]
  },
  {
   "cell_type": "code",
   "execution_count": 44,
   "metadata": {
    "id": "tsgrYYE_xcw4"
   },
   "outputs": [],
   "source": [
    "###   (=)\n",
    "RESULTADO_N_OPERACIONAL = df[(df['Categoria_Num'].str.startswith('0701')) | (df['Categoria_Num'].str.startswith('0702'))].copy()\n",
    "\n",
    "RESULTADO_N_OPERACIONAL_0701 = RESULTADO_N_OPERACIONAL[RESULTADO_N_OPERACIONAL['Categoria_Num'].str.startswith('0701')].groupby(['Categoria_Num', 'Categoria'])['Valor recebido'].sum().reset_index()\n",
    "RESULTADO_N_OPERACIONAL_0701.columns = ['Categoria_Num', 'Categoria', 'Total']\n",
    "RESULTADO_N_OPERACIONAL_0701['Total'] = RESULTADO_N_OPERACIONAL_0701['Total'].round(2)\n",
    "\n",
    "RESULTADO_N_OPERACIONAL_0702 = RESULTADO_N_OPERACIONAL[RESULTADO_N_OPERACIONAL['Categoria_Num'].str.startswith('0702')].groupby(['Categoria_Num', 'Categoria'])['Valor pago'].sum().reset_index()\n",
    "RESULTADO_N_OPERACIONAL_0702.columns = ['Categoria_Num', 'Categoria', 'Total']\n",
    "RESULTADO_N_OPERACIONAL_0702['Total'] = RESULTADO_N_OPERACIONAL_0702['Total'].round(2)\n",
    "\n",
    "RESULTADO_N_OPERACIONAL = pd.concat([RESULTADO_N_OPERACIONAL_0701, RESULTADO_N_OPERACIONAL_0702])"
   ]
  },
  {
   "cell_type": "code",
   "execution_count": 45,
   "metadata": {
    "id": "T4880DlEuUmI"
   },
   "outputs": [],
   "source": [
    "###   (-)\n",
    "IR_CSLL = df[df['Categoria_Num'].str.startswith('08')].groupby(['Categoria_Num', 'Categoria'])['Valor pago'].sum().reset_index()\n",
    "IR_CSLL.columns = ['Categoria_Num', 'Categoria', 'Total']\n",
    "IR_CSLL['Total'] = IR_CSLL['Total'].round(2)"
   ]
  },
  {
   "cell_type": "code",
   "execution_count": 46,
   "metadata": {
    "id": "3PQHJd55vn1v"
   },
   "outputs": [],
   "source": [
    "###   (-)\n",
    "DISTRIBUICAO_LUCROS = df[df['Categoria_Num'].str.startswith('09')].groupby(['Categoria_Num', 'Categoria'])['Valor pago'].sum().reset_index()\n",
    "DISTRIBUICAO_LUCROS.columns = ['Categoria_Num', 'Categoria', 'Total']\n",
    "DISTRIBUICAO_LUCROS['Total'] = DISTRIBUICAO_LUCROS['Total'].round(2)"
   ]
  },
  {
   "cell_type": "code",
   "execution_count": 47,
   "metadata": {
    "id": "IoZnu8_pv5zV"
   },
   "outputs": [],
   "source": [
    "###   (-)\n",
    "INVESTIMENTO_IMOBILIZADO_INTANGIVEL = df[df['Categoria_Num'].str.startswith('10')].groupby(['Categoria_Num', 'Categoria'])['Valor pago'].sum().reset_index()\n",
    "INVESTIMENTO_IMOBILIZADO_INTANGIVEL.columns = ['Categoria_Num', 'Categoria', 'Total']\n",
    "INVESTIMENTO_IMOBILIZADO_INTANGIVEL['Total'] = INVESTIMENTO_IMOBILIZADO_INTANGIVEL['Total'].round(2)"
   ]
  },
  {
   "cell_type": "code",
   "execution_count": 48,
   "metadata": {
    "id": "w7dL2PFoxPgL"
   },
   "outputs": [],
   "source": [
    "###   (+)\n",
    "ENTRADA_EMPRESTIMO = df[(df['Categoria_Num'].str.startswith('11'))].groupby(['Categoria_Num', 'Categoria'])['Valor recebido'].sum().reset_index()\n",
    "ENTRADA_EMPRESTIMO.columns = ['Categoria_Num', 'Categoria', 'Total']\n",
    "ENTRADA_EMPRESTIMO['Total'] = ENTRADA_EMPRESTIMO['Total'].round(2)"
   ]
  },
  {
   "cell_type": "code",
   "execution_count": 49,
   "metadata": {
    "id": "kX0u3fXmx4qd"
   },
   "outputs": [],
   "source": [
    "###   (-)\n",
    "SAIDA_EMPRESTIMOS = df[df['Categoria_Num'].str.startswith('12')].groupby(['Categoria_Num', 'Categoria'])['Valor pago'].sum().reset_index()\n",
    "SAIDA_EMPRESTIMOS.columns = ['Categoria_Num', 'Categoria', 'Total']\n",
    "SAIDA_EMPRESTIMOS['Total'] = SAIDA_EMPRESTIMOS['Total'].round(2)"
   ]
  },
  {
   "cell_type": "code",
   "execution_count": 50,
   "metadata": {
    "id": "kIqoCtO8yDBY"
   },
   "outputs": [],
   "source": [
    "###   (+)\n",
    "APORTES_CAPITAL = df[(df['Categoria_Num'].str.startswith('13'))].groupby(['Categoria_Num', 'Categoria'])['Valor recebido'].sum().reset_index()\n",
    "APORTES_CAPITAL.columns = ['Categoria_Num', 'Categoria', 'Total']\n",
    "APORTES_CAPITAL['Total'] = APORTES_CAPITAL['Total'].round(2)"
   ]
  },
  {
   "cell_type": "code",
   "execution_count": 51,
   "metadata": {
    "id": "UZPWBh6avniZ"
   },
   "outputs": [],
   "source": [
    "OUTRAS_MOV_CAIXA = df[(df['Categoria_Num'].str.startswith('1401')) | (df['Categoria_Num'].str.startswith('1402'))].copy()\n",
    "\n",
    "OUTRAS_MOV_CAIXA_1401 = OUTRAS_MOV_CAIXA[(OUTRAS_MOV_CAIXA['Categoria_Num'].str.startswith('1401')) & (OUTRAS_MOV_CAIXA['Categoria_Num'] != '140103')].groupby(['Categoria_Num', 'Categoria'])['Valor recebido'].sum().reset_index()\n",
    "OUTRAS_MOV_CAIXA_1401.columns = ['Categoria_Num', 'Categoria', 'Total']\n",
    "OUTRAS_MOV_CAIXA_1401['Total'] = OUTRAS_MOV_CAIXA_1401['Total'].round(2)\n",
    "\n",
    "OUTRAS_MOV_CAIXA_1402 = OUTRAS_MOV_CAIXA[OUTRAS_MOV_CAIXA['Categoria_Num'].str.startswith('1402')].groupby(['Categoria_Num', 'Categoria'])['Valor pago'].sum().reset_index()\n",
    "OUTRAS_MOV_CAIXA_1402.columns = ['Categoria_Num', 'Categoria', 'Total']\n",
    "OUTRAS_MOV_CAIXA_1402['Total'] = OUTRAS_MOV_CAIXA_1402['Total'].round(2)\n",
    "\n",
    "OUTRAS_MOV_CAIXA = pd.concat([OUTRAS_MOV_CAIXA_1401, OUTRAS_MOV_CAIXA_1402]).dropna()\n"
   ]
  },
  {
   "cell_type": "code",
   "execution_count": 52,
   "metadata": {
    "colab": {
     "base_uri": "https://localhost:8080/"
    },
    "id": "j7yQnKxlSl5x",
    "outputId": "458f4dc6-baa4-4309-8adb-e144d15c859d"
   },
   "outputs": [
    {
     "data": {
      "text/plain": [
       "Categoria_Num    0101010101010102010101050101010701010108010101...\n",
       "Categoria         EB1 - ASSESSORIA NO BRASIL EB2 - NIW - ASSESS...\n",
       "Total                                                  60255156.42\n",
       "dtype: object"
      ]
     },
     "execution_count": 52,
     "metadata": {},
     "output_type": "execute_result"
    }
   ],
   "source": [
    "#RECEITA_BRUTA.sum()\n",
    "RECEITA_BRUTA.sum()"
   ]
  },
  {
   "cell_type": "code",
   "execution_count": 53,
   "metadata": {
    "id": "reqRu8RUNa0Z"
   },
   "outputs": [],
   "source": [
    "#RECEITA_BRASIL = df[df['Categoria_Num'].str.startswith('0101')].groupby(['Categoria_Num','Categoria'])['Valor recebido'].sum().reset_index()\n",
    "#RECEITA_BRASIL.columns = ['Categoria_Num', 'Categoria', 'Total']\n",
    "#RECEITA_BRASIL['Total'] = RECEITA_BRASIL['Total'].round(2)"
   ]
  },
  {
   "cell_type": "code",
   "execution_count": 54,
   "metadata": {
    "id": "Too_bsWgTcUD"
   },
   "outputs": [],
   "source": [
    "#RECEITA_BRASIL1 = RECEITA_BRASIL.groupby(['Categoria_Num', 'Categoria'])['Total'].sum().reset_index()"
   ]
  },
  {
   "cell_type": "code",
   "execution_count": 55,
   "metadata": {
    "id": "Rqk0jWpVE5h2"
   },
   "outputs": [],
   "source": [
    "#RECEITA_BRASIL"
   ]
  },
  {
   "cell_type": "markdown",
   "metadata": {
    "id": "4zzH8jShNbes"
   },
   "source": [
    "#Secundários"
   ]
  },
  {
   "cell_type": "code",
   "execution_count": 56,
   "metadata": {
    "id": "FTg36x8oLlCa"
   },
   "outputs": [],
   "source": [
    "PLANODECONTAS1 = pd.concat([RECEITA_BRUTA, DEDUCAO_IMPOSTOS, CUSTOS_SERV_VENDIDO, DESPESAS_OPERACIONAIS, DEPRECIACOES_AMORTIZACOES, RESULTADO_FINANCEIRO, RESULTADO_N_OPERACIONAL, IR_CSLL, DISTRIBUICAO_LUCROS, INVESTIMENTO_IMOBILIZADO_INTANGIVEL, ENTRADA_EMPRESTIMO, SAIDA_EMPRESTIMOS, APORTES_CAPITAL, OUTRAS_MOV_CAIXA], ignore_index=True)"
   ]
  },
  {
   "cell_type": "code",
   "execution_count": 57,
   "metadata": {
    "id": "JKjAScUhJtde"
   },
   "outputs": [],
   "source": [
    "df_pc1 = PLANODECONTAS1.groupby('Categoria_Num')['Total'].sum().reset_index()\n",
    "df_pc1['Categoria_Num'] = df_pc1['Categoria_Num'].replace('01', '01 ')"
   ]
  },
  {
   "cell_type": "code",
   "execution_count": 58,
   "metadata": {
    "id": "OhjROVsc2Sy1"
   },
   "outputs": [],
   "source": [
    "df_pc['Total'] = df_pc['Categoria_Num'].map(df_pc1.set_index('Categoria_Num')['Total']).fillna(0)"
   ]
  },
  {
   "cell_type": "code",
   "execution_count": 59,
   "metadata": {
    "id": "5rHqt6kYxd3L"
   },
   "outputs": [],
   "source": [
    "#df_pc = df_pc.dropna(subset=['Categoria_Num', 'Categoria'], how='all')"
   ]
  },
  {
   "cell_type": "code",
   "execution_count": 60,
   "metadata": {
    "id": "UKmQ3QSj66DT"
   },
   "outputs": [],
   "source": [
    "df_pc.loc[df_pc['Categoria'] == 'Transferência de Entrada', 'Categoria_Num'] = '01 '\n",
    "df_pc.loc[df_pc['Categoria'] == 'Transferência de Saída', 'Categoria_Num'] = '02'\n",
    "df_pc.loc[df_pc['Categoria'] == 'Total de Transferências', 'Categoria_Num'] = '0'"
   ]
  },
  {
   "cell_type": "code",
   "execution_count": 61,
   "metadata": {},
   "outputs": [],
   "source": [
    "#essa aqui é a alterada para preencher\n",
    "#df_pc1 = df[(df['Categoria_Num'].str.startswith('01')) | (df['Categoria_Num'] == '140103')].groupby(['Categoria_Num', 'Categoria'])['Valor recebido'].sum().reset_index()\n",
    "#df_pc1.columns = ['Categoria_Num', 'Categoria', 'Total']\n",
    "#df_pc1['Total'] = df_pc1['Total'].round(2)"
   ]
  },
  {
   "cell_type": "code",
   "execution_count": 62,
   "metadata": {},
   "outputs": [],
   "source": [
    "#total_categoria_01 = df_pc1[df_pc1['Categoria_Num'].str.startswith('01')]['Total'].sum()\n",
    "#df_pc1.loc[df_pc1['Categoria_Num'] == '01', 'Total'] = total_categoria_01"
   ]
  },
  {
   "cell_type": "code",
   "execution_count": 63,
   "metadata": {
    "colab": {
     "base_uri": "https://localhost:8080/",
     "height": 424
    },
    "id": "P0dCUWHP2UAu",
    "outputId": "d7d92559-88e2-42d4-f88e-828b04c2485a"
   },
   "outputs": [
    {
     "data": {
      "text/html": [
       "<div>\n",
       "<style scoped>\n",
       "    .dataframe tbody tr th:only-of-type {\n",
       "        vertical-align: middle;\n",
       "    }\n",
       "\n",
       "    .dataframe tbody tr th {\n",
       "        vertical-align: top;\n",
       "    }\n",
       "\n",
       "    .dataframe thead th {\n",
       "        text-align: right;\n",
       "    }\n",
       "</style>\n",
       "<table border=\"1\" class=\"dataframe\">\n",
       "  <thead>\n",
       "    <tr style=\"text-align: right;\">\n",
       "      <th></th>\n",
       "      <th>Categoria_Num</th>\n",
       "      <th>Total</th>\n",
       "    </tr>\n",
       "  </thead>\n",
       "  <tbody>\n",
       "    <tr>\n",
       "      <th>0</th>\n",
       "      <td>01010101</td>\n",
       "      <td>106399.03</td>\n",
       "    </tr>\n",
       "    <tr>\n",
       "      <th>1</th>\n",
       "      <td>01010102</td>\n",
       "      <td>4405618.86</td>\n",
       "    </tr>\n",
       "    <tr>\n",
       "      <th>2</th>\n",
       "      <td>01010105</td>\n",
       "      <td>13019.85</td>\n",
       "    </tr>\n",
       "    <tr>\n",
       "      <th>3</th>\n",
       "      <td>01010107</td>\n",
       "      <td>22942.24</td>\n",
       "    </tr>\n",
       "    <tr>\n",
       "      <th>4</th>\n",
       "      <td>01010108</td>\n",
       "      <td>2000.00</td>\n",
       "    </tr>\n",
       "    <tr>\n",
       "      <th>...</th>\n",
       "      <td>...</td>\n",
       "      <td>...</td>\n",
       "    </tr>\n",
       "    <tr>\n",
       "      <th>95</th>\n",
       "      <td>03010102</td>\n",
       "      <td>-153618.43</td>\n",
       "    </tr>\n",
       "    <tr>\n",
       "      <th>96</th>\n",
       "      <td>03010103</td>\n",
       "      <td>0.00</td>\n",
       "    </tr>\n",
       "    <tr>\n",
       "      <th>97</th>\n",
       "      <td>0301010801</td>\n",
       "      <td>-130310.22</td>\n",
       "    </tr>\n",
       "    <tr>\n",
       "      <th>98</th>\n",
       "      <td>030101080202</td>\n",
       "      <td>-32040.54</td>\n",
       "    </tr>\n",
       "    <tr>\n",
       "      <th>99</th>\n",
       "      <td>030101080301</td>\n",
       "      <td>0.00</td>\n",
       "    </tr>\n",
       "  </tbody>\n",
       "</table>\n",
       "<p>100 rows × 2 columns</p>\n",
       "</div>"
      ],
      "text/plain": [
       "   Categoria_Num       Total\n",
       "0       01010101   106399.03\n",
       "1       01010102  4405618.86\n",
       "2       01010105    13019.85\n",
       "3       01010107    22942.24\n",
       "4       01010108     2000.00\n",
       "..           ...         ...\n",
       "95      03010102  -153618.43\n",
       "96      03010103        0.00\n",
       "97    0301010801  -130310.22\n",
       "98  030101080202   -32040.54\n",
       "99  030101080301        0.00\n",
       "\n",
       "[100 rows x 2 columns]"
      ]
     },
     "execution_count": 63,
     "metadata": {},
     "output_type": "execute_result"
    }
   ],
   "source": [
    "df_pc1.head(100)"
   ]
  },
  {
   "cell_type": "code",
   "execution_count": 64,
   "metadata": {
    "colab": {
     "base_uri": "https://localhost:8080/",
     "height": 424
    },
    "id": "U86AMhn4Tl0z",
    "outputId": "9151d8f7-9605-4a7b-b4a0-5cd14d678c2e"
   },
   "outputs": [
    {
     "data": {
      "text/html": [
       "<div>\n",
       "<style scoped>\n",
       "    .dataframe tbody tr th:only-of-type {\n",
       "        vertical-align: middle;\n",
       "    }\n",
       "\n",
       "    .dataframe tbody tr th {\n",
       "        vertical-align: top;\n",
       "    }\n",
       "\n",
       "    .dataframe thead th {\n",
       "        text-align: right;\n",
       "    }\n",
       "</style>\n",
       "<table border=\"1\" class=\"dataframe\">\n",
       "  <thead>\n",
       "    <tr style=\"text-align: right;\">\n",
       "      <th></th>\n",
       "      <th>Categoria_Num</th>\n",
       "      <th>Total</th>\n",
       "    </tr>\n",
       "  </thead>\n",
       "  <tbody>\n",
       "    <tr>\n",
       "      <th>0</th>\n",
       "      <td>01010101</td>\n",
       "      <td>106399.03</td>\n",
       "    </tr>\n",
       "    <tr>\n",
       "      <th>1</th>\n",
       "      <td>01010102</td>\n",
       "      <td>4405618.86</td>\n",
       "    </tr>\n",
       "    <tr>\n",
       "      <th>2</th>\n",
       "      <td>01010105</td>\n",
       "      <td>13019.85</td>\n",
       "    </tr>\n",
       "    <tr>\n",
       "      <th>3</th>\n",
       "      <td>01010107</td>\n",
       "      <td>22942.24</td>\n",
       "    </tr>\n",
       "    <tr>\n",
       "      <th>4</th>\n",
       "      <td>01010108</td>\n",
       "      <td>2000.00</td>\n",
       "    </tr>\n",
       "    <tr>\n",
       "      <th>...</th>\n",
       "      <td>...</td>\n",
       "      <td>...</td>\n",
       "    </tr>\n",
       "    <tr>\n",
       "      <th>195</th>\n",
       "      <td>040201</td>\n",
       "      <td>-10.00</td>\n",
       "    </tr>\n",
       "    <tr>\n",
       "      <th>196</th>\n",
       "      <td>040202</td>\n",
       "      <td>-58.20</td>\n",
       "    </tr>\n",
       "    <tr>\n",
       "      <th>197</th>\n",
       "      <td>040203</td>\n",
       "      <td>-12330.77</td>\n",
       "    </tr>\n",
       "    <tr>\n",
       "      <th>198</th>\n",
       "      <td>040205</td>\n",
       "      <td>-16152.29</td>\n",
       "    </tr>\n",
       "    <tr>\n",
       "      <th>199</th>\n",
       "      <td>040206</td>\n",
       "      <td>-7207.82</td>\n",
       "    </tr>\n",
       "  </tbody>\n",
       "</table>\n",
       "<p>200 rows × 2 columns</p>\n",
       "</div>"
      ],
      "text/plain": [
       "    Categoria_Num       Total\n",
       "0        01010101   106399.03\n",
       "1        01010102  4405618.86\n",
       "2        01010105    13019.85\n",
       "3        01010107    22942.24\n",
       "4        01010108     2000.00\n",
       "..            ...         ...\n",
       "195        040201      -10.00\n",
       "196        040202      -58.20\n",
       "197        040203   -12330.77\n",
       "198        040205   -16152.29\n",
       "199        040206    -7207.82\n",
       "\n",
       "[200 rows x 2 columns]"
      ]
     },
     "execution_count": 64,
     "metadata": {},
     "output_type": "execute_result"
    }
   ],
   "source": [
    "df_pc1.head(200)"
   ]
  },
  {
   "cell_type": "code",
   "execution_count": 65,
   "metadata": {
    "colab": {
     "base_uri": "https://localhost:8080/",
     "height": 53
    },
    "id": "_EKhMP6z0v54",
    "outputId": "893dc910-8a97-476d-b759-fc0ab4bf5967"
   },
   "outputs": [],
   "source": [
    "#df.loc[df['Categoria_Num'] == '140103']"
   ]
  },
  {
   "cell_type": "code",
   "execution_count": 66,
   "metadata": {
    "id": "zVJnNjtJdZZo"
   },
   "outputs": [],
   "source": [
    "with pd.ExcelWriter('C:\\\\Users\\\\Kkk\\\\OneDrive\\\\Documentos\\\\DNC\\\\Projetos\\\\arquivo121.xlsx', engine='xlsxwriter') as writer:\n",
    "    df.to_excel(writer, sheet_name='Basededados', index=False)\n",
    "    df_pc1.to_excel(writer, sheet_name='Plano de contas', index=False)"
   ]
  },
  {
   "cell_type": "code",
   "execution_count": 67,
   "metadata": {
    "id": "tBfHcHDjA_c-"
   },
   "outputs": [],
   "source": [
    "#from google.colab import drive\n",
    "#drive.mount('/content/drive')"
   ]
  },
  {
   "cell_type": "code",
   "execution_count": 68,
   "metadata": {
    "id": "RNtTXF0qz6mK"
   },
   "outputs": [],
   "source": [
    "#df_pc.to_excel('Dimensao.xlsx', index=False)"
   ]
  }
 ],
 "metadata": {
  "colab": {
   "provenance": []
  },
  "kernelspec": {
   "display_name": "Python 3 (ipykernel)",
   "language": "python",
   "name": "python3"
  },
  "language_info": {
   "codemirror_mode": {
    "name": "ipython",
    "version": 3
   },
   "file_extension": ".py",
   "mimetype": "text/x-python",
   "name": "python",
   "nbconvert_exporter": "python",
   "pygments_lexer": "ipython3",
   "version": "3.10.9"
  }
 },
 "nbformat": 4,
 "nbformat_minor": 1
}
